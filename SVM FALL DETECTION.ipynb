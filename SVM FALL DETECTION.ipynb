{
 "cells": [
  {
   "cell_type": "code",
   "execution_count": 1,
   "metadata": {},
   "outputs": [],
   "source": [
    "import numpy as np\n",
    "import pandas as pd\n",
    "import matplotlib.pyplot as plt"
   ]
  },
  {
   "cell_type": "code",
   "execution_count": 2,
   "metadata": {},
   "outputs": [],
   "source": [
    "df=pd.read_csv(\"CompleteDataSet.csv\",low_memory=False,skiprows=[1])"
   ]
  },
  {
   "cell_type": "code",
   "execution_count": 3,
   "metadata": {},
   "outputs": [],
   "source": [
    "data=df[['BeltAccelerometer', 'Unnamed: 16',\n",
    "       'Unnamed: 17', 'BeltAngularVelocity', 'Unnamed: 19', 'Unnamed: 20','Activity']]\n",
    "\n"
   ]
  },
  {
   "cell_type": "code",
   "execution_count": 4,
   "metadata": {},
   "outputs": [
    {
     "name": "stderr",
     "output_type": "stream",
     "text": [
      "C:\\Users\\Rupali\\Anaconda3\\lib\\site-packages\\ipykernel_launcher.py:1: SettingWithCopyWarning: \n",
      "A value is trying to be set on a copy of a slice from a DataFrame.\n",
      "Try using .loc[row_indexer,col_indexer] = value instead\n",
      "\n",
      "See the caveats in the documentation: http://pandas.pydata.org/pandas-docs/stable/user_guide/indexing.html#returning-a-view-versus-a-copy\n",
      "  \"\"\"Entry point for launching an IPython kernel.\n",
      "C:\\Users\\Rupali\\Anaconda3\\lib\\site-packages\\ipykernel_launcher.py:2: SettingWithCopyWarning: \n",
      "A value is trying to be set on a copy of a slice from a DataFrame.\n",
      "Try using .loc[row_indexer,col_indexer] = value instead\n",
      "\n",
      "See the caveats in the documentation: http://pandas.pydata.org/pandas-docs/stable/user_guide/indexing.html#returning-a-view-versus-a-copy\n",
      "  \n",
      "C:\\Users\\Rupali\\Anaconda3\\lib\\site-packages\\ipykernel_launcher.py:3: SettingWithCopyWarning: \n",
      "A value is trying to be set on a copy of a slice from a DataFrame.\n",
      "Try using .loc[row_indexer,col_indexer] = value instead\n",
      "\n",
      "See the caveats in the documentation: http://pandas.pydata.org/pandas-docs/stable/user_guide/indexing.html#returning-a-view-versus-a-copy\n",
      "  This is separate from the ipykernel package so we can avoid doing imports until\n",
      "C:\\Users\\Rupali\\Anaconda3\\lib\\site-packages\\ipykernel_launcher.py:4: SettingWithCopyWarning: \n",
      "A value is trying to be set on a copy of a slice from a DataFrame.\n",
      "Try using .loc[row_indexer,col_indexer] = value instead\n",
      "\n",
      "See the caveats in the documentation: http://pandas.pydata.org/pandas-docs/stable/user_guide/indexing.html#returning-a-view-versus-a-copy\n",
      "  after removing the cwd from sys.path.\n",
      "C:\\Users\\Rupali\\Anaconda3\\lib\\site-packages\\ipykernel_launcher.py:5: SettingWithCopyWarning: \n",
      "A value is trying to be set on a copy of a slice from a DataFrame.\n",
      "Try using .loc[row_indexer,col_indexer] = value instead\n",
      "\n",
      "See the caveats in the documentation: http://pandas.pydata.org/pandas-docs/stable/user_guide/indexing.html#returning-a-view-versus-a-copy\n",
      "  \"\"\"\n",
      "C:\\Users\\Rupali\\Anaconda3\\lib\\site-packages\\ipykernel_launcher.py:6: SettingWithCopyWarning: \n",
      "A value is trying to be set on a copy of a slice from a DataFrame.\n",
      "Try using .loc[row_indexer,col_indexer] = value instead\n",
      "\n",
      "See the caveats in the documentation: http://pandas.pydata.org/pandas-docs/stable/user_guide/indexing.html#returning-a-view-versus-a-copy\n",
      "  \n",
      "C:\\Users\\Rupali\\Anaconda3\\lib\\site-packages\\ipykernel_launcher.py:7: SettingWithCopyWarning: \n",
      "A value is trying to be set on a copy of a slice from a DataFrame.\n",
      "Try using .loc[row_indexer,col_indexer] = value instead\n",
      "\n",
      "See the caveats in the documentation: http://pandas.pydata.org/pandas-docs/stable/user_guide/indexing.html#returning-a-view-versus-a-copy\n",
      "  import sys\n"
     ]
    }
   ],
   "source": [
    "data[\"BeltAccelerometer\"]=data[\"BeltAccelerometer\"].astype(\"float\")\n",
    "data[\"Unnamed: 16\"]=data[\"Unnamed: 16\"].astype(\"float\")\n",
    "data[\"Unnamed: 17\"]=data[\"Unnamed: 17\"].astype(\"float\")\n",
    "data[\"BeltAngularVelocity\"]=data[\"BeltAngularVelocity\"].astype(\"float\")\n",
    "data[\"Unnamed: 19\"]=data[\"Unnamed: 19\"].astype(\"float\")\n",
    "data[\"Unnamed: 20\"]=data[\"Unnamed: 20\"].astype(\"float\")\n",
    "data[\"Activity\"]=data[\"Activity\"].astype(\"float\")\n"
   ]
  },
  {
   "cell_type": "code",
   "execution_count": 5,
   "metadata": {},
   "outputs": [],
   "source": [
    "Walking=data[data[\"Activity\"]==6].head(8872)\n",
    "Standing=data[data[\"Activity\"]==7].head(8872)\n",
    "Sitting=data[data[\"Activity\"]==8].head(8872)\n",
    "Laying=data[data[\"Activity\"]==11].head(8872)\n",
    "Jumping=data[data[\"Activity\"]==10].head(8872)\n",
    "Falling_sideways=data[data[\"Activity\"]==4].head(8872)\n",
    "Falling_backwards=data[data[\"Activity\"]==3].head(8872)\n",
    "Falling_forward_using_hands=data[data[\"Activity\"]==1].head(8872)\n",
    "Falling_forward_using_knees=data[data[\"Activity\"]==2].head(8872)\n",
    "Falling_sitting_in_empty_chair=data[data[\"Activity\"]==5].head(8872)\n",
    "Picking_up_an_object=data[data[\"Activity\"]==9].head(8872)\n"
   ]
  },
  {
   "cell_type": "code",
   "execution_count": 15,
   "metadata": {},
   "outputs": [],
   "source": [
    "nfal=pd.DataFrame()\n",
    "nfal=nfal.append([Walking,Standing,Sitting,Laying,Jumping,Picking_up_an_object])\n",
    "nfal[\"Fall\"]=0"
   ]
  },
  {
   "cell_type": "code",
   "execution_count": 16,
   "metadata": {},
   "outputs": [
    {
     "data": {
      "text/html": [
       "<div>\n",
       "<style scoped>\n",
       "    .dataframe tbody tr th:only-of-type {\n",
       "        vertical-align: middle;\n",
       "    }\n",
       "\n",
       "    .dataframe tbody tr th {\n",
       "        vertical-align: top;\n",
       "    }\n",
       "\n",
       "    .dataframe thead th {\n",
       "        text-align: right;\n",
       "    }\n",
       "</style>\n",
       "<table border=\"1\" class=\"dataframe\">\n",
       "  <thead>\n",
       "    <tr style=\"text-align: right;\">\n",
       "      <th></th>\n",
       "      <th>BeltAccelerometer</th>\n",
       "      <th>Unnamed: 16</th>\n",
       "      <th>Unnamed: 17</th>\n",
       "      <th>BeltAngularVelocity</th>\n",
       "      <th>Unnamed: 19</th>\n",
       "      <th>Unnamed: 20</th>\n",
       "      <th>Activity</th>\n",
       "      <th>Fall</th>\n",
       "    </tr>\n",
       "  </thead>\n",
       "  <tbody>\n",
       "    <tr>\n",
       "      <td>2832</td>\n",
       "      <td>0.125</td>\n",
       "      <td>0.909</td>\n",
       "      <td>0.526</td>\n",
       "      <td>34.451</td>\n",
       "      <td>-8.354</td>\n",
       "      <td>-33.232</td>\n",
       "      <td>6.0</td>\n",
       "      <td>0</td>\n",
       "    </tr>\n",
       "    <tr>\n",
       "      <td>2833</td>\n",
       "      <td>0.280</td>\n",
       "      <td>1.057</td>\n",
       "      <td>0.640</td>\n",
       "      <td>-31.463</td>\n",
       "      <td>-24.024</td>\n",
       "      <td>-0.549</td>\n",
       "      <td>6.0</td>\n",
       "      <td>0</td>\n",
       "    </tr>\n",
       "    <tr>\n",
       "      <td>2834</td>\n",
       "      <td>0.280</td>\n",
       "      <td>1.057</td>\n",
       "      <td>0.640</td>\n",
       "      <td>1.220</td>\n",
       "      <td>-26.524</td>\n",
       "      <td>27.927</td>\n",
       "      <td>6.0</td>\n",
       "      <td>0</td>\n",
       "    </tr>\n",
       "    <tr>\n",
       "      <td>2835</td>\n",
       "      <td>0.335</td>\n",
       "      <td>1.095</td>\n",
       "      <td>0.394</td>\n",
       "      <td>34.634</td>\n",
       "      <td>-10.427</td>\n",
       "      <td>16.280</td>\n",
       "      <td>6.0</td>\n",
       "      <td>0</td>\n",
       "    </tr>\n",
       "    <tr>\n",
       "      <td>2836</td>\n",
       "      <td>0.335</td>\n",
       "      <td>1.095</td>\n",
       "      <td>0.394</td>\n",
       "      <td>-58.171</td>\n",
       "      <td>5.000</td>\n",
       "      <td>-2.744</td>\n",
       "      <td>6.0</td>\n",
       "      <td>0</td>\n",
       "    </tr>\n",
       "  </tbody>\n",
       "</table>\n",
       "</div>"
      ],
      "text/plain": [
       "      BeltAccelerometer  Unnamed: 16  Unnamed: 17  BeltAngularVelocity  \\\n",
       "2832              0.125        0.909        0.526               34.451   \n",
       "2833              0.280        1.057        0.640              -31.463   \n",
       "2834              0.280        1.057        0.640                1.220   \n",
       "2835              0.335        1.095        0.394               34.634   \n",
       "2836              0.335        1.095        0.394              -58.171   \n",
       "\n",
       "      Unnamed: 19  Unnamed: 20  Activity  Fall  \n",
       "2832       -8.354      -33.232       6.0     0  \n",
       "2833      -24.024       -0.549       6.0     0  \n",
       "2834      -26.524       27.927       6.0     0  \n",
       "2835      -10.427       16.280       6.0     0  \n",
       "2836        5.000       -2.744       6.0     0  "
      ]
     },
     "execution_count": 16,
     "metadata": {},
     "output_type": "execute_result"
    }
   ],
   "source": [
    "nfal.head()"
   ]
  },
  {
   "cell_type": "code",
   "execution_count": 17,
   "metadata": {},
   "outputs": [
    {
     "data": {
      "text/html": [
       "<div>\n",
       "<style scoped>\n",
       "    .dataframe tbody tr th:only-of-type {\n",
       "        vertical-align: middle;\n",
       "    }\n",
       "\n",
       "    .dataframe tbody tr th {\n",
       "        vertical-align: top;\n",
       "    }\n",
       "\n",
       "    .dataframe thead th {\n",
       "        text-align: right;\n",
       "    }\n",
       "</style>\n",
       "<table border=\"1\" class=\"dataframe\">\n",
       "  <thead>\n",
       "    <tr style=\"text-align: right;\">\n",
       "      <th></th>\n",
       "      <th>BeltAccelerometer</th>\n",
       "      <th>Unnamed: 16</th>\n",
       "      <th>Unnamed: 17</th>\n",
       "      <th>BeltAngularVelocity</th>\n",
       "      <th>Unnamed: 19</th>\n",
       "      <th>Unnamed: 20</th>\n",
       "      <th>Activity</th>\n",
       "      <th>Fall</th>\n",
       "    </tr>\n",
       "  </thead>\n",
       "  <tbody>\n",
       "    <tr>\n",
       "      <td>1701</td>\n",
       "      <td>0.050</td>\n",
       "      <td>0.900</td>\n",
       "      <td>0.385</td>\n",
       "      <td>2.927</td>\n",
       "      <td>2.805</td>\n",
       "      <td>9.634</td>\n",
       "      <td>4.0</td>\n",
       "      <td>1</td>\n",
       "    </tr>\n",
       "    <tr>\n",
       "      <td>1702</td>\n",
       "      <td>0.049</td>\n",
       "      <td>0.911</td>\n",
       "      <td>0.398</td>\n",
       "      <td>2.927</td>\n",
       "      <td>1.159</td>\n",
       "      <td>11.037</td>\n",
       "      <td>4.0</td>\n",
       "      <td>1</td>\n",
       "    </tr>\n",
       "    <tr>\n",
       "      <td>1703</td>\n",
       "      <td>0.049</td>\n",
       "      <td>0.911</td>\n",
       "      <td>0.398</td>\n",
       "      <td>-1.402</td>\n",
       "      <td>1.707</td>\n",
       "      <td>8.780</td>\n",
       "      <td>4.0</td>\n",
       "      <td>1</td>\n",
       "    </tr>\n",
       "    <tr>\n",
       "      <td>1704</td>\n",
       "      <td>0.069</td>\n",
       "      <td>0.909</td>\n",
       "      <td>0.381</td>\n",
       "      <td>1.646</td>\n",
       "      <td>-0.183</td>\n",
       "      <td>2.134</td>\n",
       "      <td>4.0</td>\n",
       "      <td>1</td>\n",
       "    </tr>\n",
       "    <tr>\n",
       "      <td>1705</td>\n",
       "      <td>0.078</td>\n",
       "      <td>0.898</td>\n",
       "      <td>0.395</td>\n",
       "      <td>-2.744</td>\n",
       "      <td>0.000</td>\n",
       "      <td>-0.427</td>\n",
       "      <td>4.0</td>\n",
       "      <td>1</td>\n",
       "    </tr>\n",
       "  </tbody>\n",
       "</table>\n",
       "</div>"
      ],
      "text/plain": [
       "      BeltAccelerometer  Unnamed: 16  Unnamed: 17  BeltAngularVelocity  \\\n",
       "1701              0.050        0.900        0.385                2.927   \n",
       "1702              0.049        0.911        0.398                2.927   \n",
       "1703              0.049        0.911        0.398               -1.402   \n",
       "1704              0.069        0.909        0.381                1.646   \n",
       "1705              0.078        0.898        0.395               -2.744   \n",
       "\n",
       "      Unnamed: 19  Unnamed: 20  Activity  Fall  \n",
       "1701        2.805        9.634       4.0     1  \n",
       "1702        1.159       11.037       4.0     1  \n",
       "1703        1.707        8.780       4.0     1  \n",
       "1704       -0.183        2.134       4.0     1  \n",
       "1705        0.000       -0.427       4.0     1  "
      ]
     },
     "execution_count": 17,
     "metadata": {},
     "output_type": "execute_result"
    }
   ],
   "source": [
    "fal=pd.DataFrame()\n",
    "fal=fal.append([Falling_sideways,Falling_backwards,Falling_forward_using_hands,Falling_forward_using_knees,Falling_sitting_in_empty_chair])\n",
    "fal[\"Fall\"]=1\n",
    "fal.head()"
   ]
  },
  {
   "cell_type": "code",
   "execution_count": 18,
   "metadata": {},
   "outputs": [
    {
     "name": "stdout",
     "output_type": "stream",
     "text": [
      "0    53232\n",
      "1    44360\n",
      "Name: Fall, dtype: int64\n"
     ]
    },
    {
     "data": {
      "text/plain": [
       "(97592, 8)"
      ]
     },
     "execution_count": 18,
     "metadata": {},
     "output_type": "execute_result"
    }
   ],
   "source": [
    "bal_data=pd.DataFrame()\n",
    "bal_data=bal_data.append([fal,nfal])\n",
    "print(bal_data[\"Fall\"].value_counts())\n",
    "np.shape(bal_data)"
   ]
  },
  {
   "cell_type": "code",
   "execution_count": 20,
   "metadata": {},
   "outputs": [
    {
     "data": {
      "text/html": [
       "<div>\n",
       "<style scoped>\n",
       "    .dataframe tbody tr th:only-of-type {\n",
       "        vertical-align: middle;\n",
       "    }\n",
       "\n",
       "    .dataframe tbody tr th {\n",
       "        vertical-align: top;\n",
       "    }\n",
       "\n",
       "    .dataframe thead th {\n",
       "        text-align: right;\n",
       "    }\n",
       "</style>\n",
       "<table border=\"1\" class=\"dataframe\">\n",
       "  <thead>\n",
       "    <tr style=\"text-align: right;\">\n",
       "      <th></th>\n",
       "      <th>BeltAccelerometer</th>\n",
       "      <th>Unnamed: 16</th>\n",
       "      <th>Unnamed: 17</th>\n",
       "      <th>BeltAngularVelocity</th>\n",
       "      <th>Unnamed: 19</th>\n",
       "      <th>Unnamed: 20</th>\n",
       "      <th>Activity</th>\n",
       "      <th>Fall</th>\n",
       "    </tr>\n",
       "  </thead>\n",
       "  <tbody>\n",
       "    <tr>\n",
       "      <td>1701</td>\n",
       "      <td>0.050</td>\n",
       "      <td>0.900</td>\n",
       "      <td>0.385</td>\n",
       "      <td>2.927</td>\n",
       "      <td>2.805</td>\n",
       "      <td>9.634</td>\n",
       "      <td>4.0</td>\n",
       "      <td>1</td>\n",
       "    </tr>\n",
       "    <tr>\n",
       "      <td>1702</td>\n",
       "      <td>0.049</td>\n",
       "      <td>0.911</td>\n",
       "      <td>0.398</td>\n",
       "      <td>2.927</td>\n",
       "      <td>1.159</td>\n",
       "      <td>11.037</td>\n",
       "      <td>4.0</td>\n",
       "      <td>1</td>\n",
       "    </tr>\n",
       "    <tr>\n",
       "      <td>1703</td>\n",
       "      <td>0.049</td>\n",
       "      <td>0.911</td>\n",
       "      <td>0.398</td>\n",
       "      <td>-1.402</td>\n",
       "      <td>1.707</td>\n",
       "      <td>8.780</td>\n",
       "      <td>4.0</td>\n",
       "      <td>1</td>\n",
       "    </tr>\n",
       "    <tr>\n",
       "      <td>1704</td>\n",
       "      <td>0.069</td>\n",
       "      <td>0.909</td>\n",
       "      <td>0.381</td>\n",
       "      <td>1.646</td>\n",
       "      <td>-0.183</td>\n",
       "      <td>2.134</td>\n",
       "      <td>4.0</td>\n",
       "      <td>1</td>\n",
       "    </tr>\n",
       "    <tr>\n",
       "      <td>1705</td>\n",
       "      <td>0.078</td>\n",
       "      <td>0.898</td>\n",
       "      <td>0.395</td>\n",
       "      <td>-2.744</td>\n",
       "      <td>0.000</td>\n",
       "      <td>-0.427</td>\n",
       "      <td>4.0</td>\n",
       "      <td>1</td>\n",
       "    </tr>\n",
       "  </tbody>\n",
       "</table>\n",
       "</div>"
      ],
      "text/plain": [
       "      BeltAccelerometer  Unnamed: 16  Unnamed: 17  BeltAngularVelocity  \\\n",
       "1701              0.050        0.900        0.385                2.927   \n",
       "1702              0.049        0.911        0.398                2.927   \n",
       "1703              0.049        0.911        0.398               -1.402   \n",
       "1704              0.069        0.909        0.381                1.646   \n",
       "1705              0.078        0.898        0.395               -2.744   \n",
       "\n",
       "      Unnamed: 19  Unnamed: 20  Activity  Fall  \n",
       "1701        2.805        9.634       4.0     1  \n",
       "1702        1.159       11.037       4.0     1  \n",
       "1703        1.707        8.780       4.0     1  \n",
       "1704       -0.183        2.134       4.0     1  \n",
       "1705        0.000       -0.427       4.0     1  "
      ]
     },
     "execution_count": 20,
     "metadata": {},
     "output_type": "execute_result"
    }
   ],
   "source": [
    "bal_data.head()"
   ]
  },
  {
   "cell_type": "code",
   "execution_count": 22,
   "metadata": {},
   "outputs": [
    {
     "data": {
      "text/html": [
       "<div>\n",
       "<style scoped>\n",
       "    .dataframe tbody tr th:only-of-type {\n",
       "        vertical-align: middle;\n",
       "    }\n",
       "\n",
       "    .dataframe tbody tr th {\n",
       "        vertical-align: top;\n",
       "    }\n",
       "\n",
       "    .dataframe thead th {\n",
       "        text-align: right;\n",
       "    }\n",
       "</style>\n",
       "<table border=\"1\" class=\"dataframe\">\n",
       "  <thead>\n",
       "    <tr style=\"text-align: right;\">\n",
       "      <th></th>\n",
       "      <th>BeltAccelerometer</th>\n",
       "      <th>Unnamed: 16</th>\n",
       "      <th>Unnamed: 17</th>\n",
       "      <th>BeltAngularVelocity</th>\n",
       "      <th>Unnamed: 19</th>\n",
       "      <th>Unnamed: 20</th>\n",
       "      <th>Activity</th>\n",
       "      <th>Fall</th>\n",
       "      <th>label</th>\n",
       "    </tr>\n",
       "  </thead>\n",
       "  <tbody>\n",
       "    <tr>\n",
       "      <td>1701</td>\n",
       "      <td>0.050</td>\n",
       "      <td>0.900</td>\n",
       "      <td>0.385</td>\n",
       "      <td>2.927</td>\n",
       "      <td>2.805</td>\n",
       "      <td>9.634</td>\n",
       "      <td>4.0</td>\n",
       "      <td>1</td>\n",
       "      <td>1</td>\n",
       "    </tr>\n",
       "    <tr>\n",
       "      <td>1702</td>\n",
       "      <td>0.049</td>\n",
       "      <td>0.911</td>\n",
       "      <td>0.398</td>\n",
       "      <td>2.927</td>\n",
       "      <td>1.159</td>\n",
       "      <td>11.037</td>\n",
       "      <td>4.0</td>\n",
       "      <td>1</td>\n",
       "      <td>1</td>\n",
       "    </tr>\n",
       "    <tr>\n",
       "      <td>1703</td>\n",
       "      <td>0.049</td>\n",
       "      <td>0.911</td>\n",
       "      <td>0.398</td>\n",
       "      <td>-1.402</td>\n",
       "      <td>1.707</td>\n",
       "      <td>8.780</td>\n",
       "      <td>4.0</td>\n",
       "      <td>1</td>\n",
       "      <td>1</td>\n",
       "    </tr>\n",
       "    <tr>\n",
       "      <td>1704</td>\n",
       "      <td>0.069</td>\n",
       "      <td>0.909</td>\n",
       "      <td>0.381</td>\n",
       "      <td>1.646</td>\n",
       "      <td>-0.183</td>\n",
       "      <td>2.134</td>\n",
       "      <td>4.0</td>\n",
       "      <td>1</td>\n",
       "      <td>1</td>\n",
       "    </tr>\n",
       "    <tr>\n",
       "      <td>1705</td>\n",
       "      <td>0.078</td>\n",
       "      <td>0.898</td>\n",
       "      <td>0.395</td>\n",
       "      <td>-2.744</td>\n",
       "      <td>0.000</td>\n",
       "      <td>-0.427</td>\n",
       "      <td>4.0</td>\n",
       "      <td>1</td>\n",
       "      <td>1</td>\n",
       "    </tr>\n",
       "  </tbody>\n",
       "</table>\n",
       "</div>"
      ],
      "text/plain": [
       "      BeltAccelerometer  Unnamed: 16  Unnamed: 17  BeltAngularVelocity  \\\n",
       "1701              0.050        0.900        0.385                2.927   \n",
       "1702              0.049        0.911        0.398                2.927   \n",
       "1703              0.049        0.911        0.398               -1.402   \n",
       "1704              0.069        0.909        0.381                1.646   \n",
       "1705              0.078        0.898        0.395               -2.744   \n",
       "\n",
       "      Unnamed: 19  Unnamed: 20  Activity  Fall  label  \n",
       "1701        2.805        9.634       4.0     1      1  \n",
       "1702        1.159       11.037       4.0     1      1  \n",
       "1703        1.707        8.780       4.0     1      1  \n",
       "1704       -0.183        2.134       4.0     1      1  \n",
       "1705        0.000       -0.427       4.0     1      1  "
      ]
     },
     "execution_count": 22,
     "metadata": {},
     "output_type": "execute_result"
    }
   ],
   "source": [
    "from sklearn.preprocessing import LabelEncoder\n",
    "label = LabelEncoder()\n",
    "bal_data['label'] = label.fit_transform(bal_data['Fall'])\n",
    "bal_data.head()"
   ]
  },
  {
   "cell_type": "code",
   "execution_count": 23,
   "metadata": {},
   "outputs": [],
   "source": [
    "X = bal_data[['BeltAccelerometer', 'Unnamed: 16',\n",
    "       'Unnamed: 17', 'BeltAngularVelocity', 'Unnamed: 19', 'Unnamed: 20']]\n",
    "y = bal_data['label']"
   ]
  },
  {
   "cell_type": "code",
   "execution_count": 24,
   "metadata": {},
   "outputs": [
    {
     "data": {
      "text/html": [
       "<div>\n",
       "<style scoped>\n",
       "    .dataframe tbody tr th:only-of-type {\n",
       "        vertical-align: middle;\n",
       "    }\n",
       "\n",
       "    .dataframe tbody tr th {\n",
       "        vertical-align: top;\n",
       "    }\n",
       "\n",
       "    .dataframe thead th {\n",
       "        text-align: right;\n",
       "    }\n",
       "</style>\n",
       "<table border=\"1\" class=\"dataframe\">\n",
       "  <thead>\n",
       "    <tr style=\"text-align: right;\">\n",
       "      <th></th>\n",
       "      <th>BeltAccelerometer</th>\n",
       "      <th>Unnamed: 16</th>\n",
       "      <th>Unnamed: 17</th>\n",
       "      <th>BeltAngularVelocity</th>\n",
       "      <th>Unnamed: 19</th>\n",
       "      <th>Unnamed: 20</th>\n",
       "    </tr>\n",
       "  </thead>\n",
       "  <tbody>\n",
       "    <tr>\n",
       "      <td>0</td>\n",
       "      <td>0.124161</td>\n",
       "      <td>1.371368</td>\n",
       "      <td>0.357820</td>\n",
       "      <td>0.015018</td>\n",
       "      <td>0.029058</td>\n",
       "      <td>0.109857</td>\n",
       "    </tr>\n",
       "    <tr>\n",
       "      <td>1</td>\n",
       "      <td>0.122052</td>\n",
       "      <td>1.385978</td>\n",
       "      <td>0.377202</td>\n",
       "      <td>0.015018</td>\n",
       "      <td>0.013042</td>\n",
       "      <td>0.128453</td>\n",
       "    </tr>\n",
       "    <tr>\n",
       "      <td>2</td>\n",
       "      <td>0.122052</td>\n",
       "      <td>1.385978</td>\n",
       "      <td>0.377202</td>\n",
       "      <td>-0.035659</td>\n",
       "      <td>0.018374</td>\n",
       "      <td>0.098538</td>\n",
       "    </tr>\n",
       "    <tr>\n",
       "      <td>3</td>\n",
       "      <td>0.164221</td>\n",
       "      <td>1.383322</td>\n",
       "      <td>0.351856</td>\n",
       "      <td>0.000022</td>\n",
       "      <td>-0.000016</td>\n",
       "      <td>0.010450</td>\n",
       "    </tr>\n",
       "    <tr>\n",
       "      <td>4</td>\n",
       "      <td>0.183196</td>\n",
       "      <td>1.368712</td>\n",
       "      <td>0.372729</td>\n",
       "      <td>-0.051369</td>\n",
       "      <td>0.001765</td>\n",
       "      <td>-0.023494</td>\n",
       "    </tr>\n",
       "    <tr>\n",
       "      <td>...</td>\n",
       "      <td>...</td>\n",
       "      <td>...</td>\n",
       "      <td>...</td>\n",
       "      <td>...</td>\n",
       "      <td>...</td>\n",
       "      <td>...</td>\n",
       "    </tr>\n",
       "    <tr>\n",
       "      <td>97587</td>\n",
       "      <td>-1.754439</td>\n",
       "      <td>0.733846</td>\n",
       "      <td>-0.763366</td>\n",
       "      <td>0.020731</td>\n",
       "      <td>-0.005358</td>\n",
       "      <td>0.000748</td>\n",
       "    </tr>\n",
       "    <tr>\n",
       "      <td>97588</td>\n",
       "      <td>-1.748113</td>\n",
       "      <td>0.739158</td>\n",
       "      <td>-0.761875</td>\n",
       "      <td>0.014304</td>\n",
       "      <td>-0.002984</td>\n",
       "      <td>-0.001664</td>\n",
       "    </tr>\n",
       "    <tr>\n",
       "      <td>97589</td>\n",
       "      <td>-1.748113</td>\n",
       "      <td>0.739158</td>\n",
       "      <td>-0.761875</td>\n",
       "      <td>-0.009963</td>\n",
       "      <td>-0.010106</td>\n",
       "      <td>-0.016217</td>\n",
       "    </tr>\n",
       "    <tr>\n",
       "      <td>97590</td>\n",
       "      <td>-1.748113</td>\n",
       "      <td>0.731189</td>\n",
       "      <td>-0.769330</td>\n",
       "      <td>0.001450</td>\n",
       "      <td>-0.002984</td>\n",
       "      <td>-0.008132</td>\n",
       "    </tr>\n",
       "    <tr>\n",
       "      <td>97591</td>\n",
       "      <td>-1.748113</td>\n",
       "      <td>0.731189</td>\n",
       "      <td>-0.769330</td>\n",
       "      <td>0.017874</td>\n",
       "      <td>-0.011283</td>\n",
       "      <td>-0.000061</td>\n",
       "    </tr>\n",
       "  </tbody>\n",
       "</table>\n",
       "<p>97592 rows × 6 columns</p>\n",
       "</div>"
      ],
      "text/plain": [
       "       BeltAccelerometer  Unnamed: 16  Unnamed: 17  BeltAngularVelocity  \\\n",
       "0               0.124161     1.371368     0.357820             0.015018   \n",
       "1               0.122052     1.385978     0.377202             0.015018   \n",
       "2               0.122052     1.385978     0.377202            -0.035659   \n",
       "3               0.164221     1.383322     0.351856             0.000022   \n",
       "4               0.183196     1.368712     0.372729            -0.051369   \n",
       "...                  ...          ...          ...                  ...   \n",
       "97587          -1.754439     0.733846    -0.763366             0.020731   \n",
       "97588          -1.748113     0.739158    -0.761875             0.014304   \n",
       "97589          -1.748113     0.739158    -0.761875            -0.009963   \n",
       "97590          -1.748113     0.731189    -0.769330             0.001450   \n",
       "97591          -1.748113     0.731189    -0.769330             0.017874   \n",
       "\n",
       "       Unnamed: 19  Unnamed: 20  \n",
       "0         0.029058     0.109857  \n",
       "1         0.013042     0.128453  \n",
       "2         0.018374     0.098538  \n",
       "3        -0.000016     0.010450  \n",
       "4         0.001765    -0.023494  \n",
       "...            ...          ...  \n",
       "97587    -0.005358     0.000748  \n",
       "97588    -0.002984    -0.001664  \n",
       "97589    -0.010106    -0.016217  \n",
       "97590    -0.002984    -0.008132  \n",
       "97591    -0.011283    -0.000061  \n",
       "\n",
       "[97592 rows x 6 columns]"
      ]
     },
     "execution_count": 24,
     "metadata": {},
     "output_type": "execute_result"
    }
   ],
   "source": [
    "from sklearn.preprocessing import StandardScaler, LabelEncoder\n",
    "scaler = StandardScaler()\n",
    "X = scaler.fit_transform(X)\n",
    "\n",
    "X = pd.DataFrame(data = X, columns = ['BeltAccelerometer', 'Unnamed: 16',\n",
    "       'Unnamed: 17', 'BeltAngularVelocity', 'Unnamed: 19', 'Unnamed: 20'])\n",
    "\n",
    "\n",
    "X"
   ]
  },
  {
   "cell_type": "code",
   "execution_count": 25,
   "metadata": {},
   "outputs": [],
   "source": [
    "from sklearn import svm\n",
    "from sklearn.model_selection import train_test_split \n",
    "X_train, X_test, y_train, y_test = train_test_split(X, y, test_size = 0.3, random_state = 0, stratify = y)"
   ]
  },
  {
   "cell_type": "code",
   "execution_count": 28,
   "metadata": {},
   "outputs": [
    {
     "data": {
      "text/plain": [
       "array([0, 1], dtype=int64)"
      ]
     },
     "execution_count": 28,
     "metadata": {},
     "output_type": "execute_result"
    }
   ],
   "source": [
    "label.classes_"
   ]
  },
  {
   "cell_type": "code",
   "execution_count": 29,
   "metadata": {},
   "outputs": [
    {
     "name": "stdout",
     "output_type": "stream",
     "text": [
      "[LibSVM]"
     ]
    }
   ],
   "source": [
    "linear = svm.SVC(kernel='linear', verbose=1, C=1, decision_function_shape='ovo').fit(X_train, y_train)"
   ]
  },
  {
   "cell_type": "code",
   "execution_count": 30,
   "metadata": {},
   "outputs": [],
   "source": [
    "linear_pred = linear.predict(X_test)"
   ]
  },
  {
   "cell_type": "code",
   "execution_count": 31,
   "metadata": {},
   "outputs": [],
   "source": [
    "accuracy_lin = linear.score(X_test, y_test)"
   ]
  },
  {
   "cell_type": "code",
   "execution_count": 32,
   "metadata": {},
   "outputs": [
    {
     "name": "stdout",
     "output_type": "stream",
     "text": [
      "0.6558166541430426\n"
     ]
    }
   ],
   "source": [
    "print(accuracy_lin)"
   ]
  },
  {
   "cell_type": "code",
   "execution_count": 33,
   "metadata": {},
   "outputs": [
    {
     "data": {
      "text/plain": [
       "array([[13761,  2209],\n",
       "       [ 7868,  5440]], dtype=int64)"
      ]
     },
     "execution_count": 33,
     "metadata": {},
     "output_type": "execute_result"
    }
   ],
   "source": [
    "from sklearn.metrics import confusion_matrix\n",
    "confusion_matrix(y_test,linear_pred)"
   ]
  },
  {
   "cell_type": "code",
   "execution_count": 34,
   "metadata": {},
   "outputs": [
    {
     "name": "stdout",
     "output_type": "stream",
     "text": [
      "[LibSVM]"
     ]
    }
   ],
   "source": [
    "rbf = svm.SVC(kernel='rbf', gamma=1, verbose=1, C=1, decision_function_shape='ovo').fit(X_train, y_train)"
   ]
  },
  {
   "cell_type": "code",
   "execution_count": 35,
   "metadata": {},
   "outputs": [
    {
     "name": "stdout",
     "output_type": "stream",
     "text": [
      "[LibSVM]"
     ]
    }
   ],
   "source": [
    "poly = svm.SVC(kernel='poly', gamma='auto', degree=3, verbose=1, C=1, decision_function_shape='ovo').fit(X_train, y_train)"
   ]
  },
  {
   "cell_type": "code",
   "execution_count": 36,
   "metadata": {},
   "outputs": [
    {
     "name": "stdout",
     "output_type": "stream",
     "text": [
      "[LibSVM]"
     ]
    }
   ],
   "source": [
    "sig = svm.SVC(kernel='sigmoid', gamma='auto', verbose=1, C=1, decision_function_shape='ovo').fit(X_train, y_train)"
   ]
  },
  {
   "cell_type": "code",
   "execution_count": 37,
   "metadata": {},
   "outputs": [],
   "source": [
    "poly_pred = poly.predict(X_test)\n",
    "rbf_pred = rbf.predict(X_test)\n",
    "sig_pred = sig.predict(X_test)"
   ]
  },
  {
   "cell_type": "code",
   "execution_count": 38,
   "metadata": {},
   "outputs": [],
   "source": [
    "accuracy_lin = linear.score(X_test, y_test)\n",
    "accuracy_poly = poly.score(X_test, y_test)\n",
    "accuracy_rbf = rbf.score(X_test, y_test)\n",
    "accuracy_sig = sig.score(X_test, y_test)\n"
   ]
  },
  {
   "cell_type": "code",
   "execution_count": 39,
   "metadata": {},
   "outputs": [
    {
     "name": "stdout",
     "output_type": "stream",
     "text": [
      "0.6558166541430426\n",
      "0.6713573331511715\n",
      "0.8737618689801216\n",
      "0.44579547783318535\n"
     ]
    }
   ],
   "source": [
    "print(accuracy_lin)\n",
    "print(accuracy_poly)\n",
    "print(accuracy_rbf)\n",
    "print(accuracy_sig)"
   ]
  },
  {
   "cell_type": "code",
   "execution_count": 40,
   "metadata": {},
   "outputs": [
    {
     "data": {
      "text/plain": [
       "array([[15204,   766],\n",
       "       [ 2930, 10378]], dtype=int64)"
      ]
     },
     "execution_count": 40,
     "metadata": {},
     "output_type": "execute_result"
    }
   ],
   "source": [
    "from sklearn.metrics import confusion_matrix\n",
    "confusion_matrix(y_test,rbf_pred)"
   ]
  },
  {
   "cell_type": "code",
   "execution_count": 43,
   "metadata": {},
   "outputs": [
    {
     "data": {
      "image/png": "[encoded data removed]",
      "text/plain": [
       "<Figure size 216x216 with 2 Axes>"
      ]
     },
     "metadata": {
      "needs_background": "light"
     },
     "output_type": "display_data"
    }
   ],
   "source": [
    "import seaborn as sns\n",
    "cm = confusion_matrix(y_test, rbf_pred)\n",
    "#axis_labels = ['Falling_Forward_Using_Hands','Falling_Forward_Using_Knees','Falling_Backwards','Falling_Sideways','Falling_Sitting_in_Empty_Chair','Walking','Standing','Sitting','Picking_Up_an_Object','Jumping','Laying']\n",
    "axis_labels=['Not_Fall','Fall']\n",
    "figure = plt.figure(figsize=(3,3))\n",
    "sns.heatmap(cm, annot=True, cmap=plt.cm.Blues, xticklabels=axis_labels, yticklabels=axis_labels)\n",
    "plt.ylim(len(cm),0,0)\n",
    "plt.tight_layout()\n",
    "plt.ylabel('True label')\n",
    "plt.xlabel('predicted label')\n",
    "plt.show()\n"
   ]
  },
  {
   "cell_type": "code",
   "execution_count": null,
   "metadata": {},
   "outputs": [],
   "source": []
  }
 ],
 "metadata": {
  "kernelspec": {
   "display_name": "Python 3",
   "language": "python",
   "name": "python3"
  },
  "language_info": {
   "codemirror_mode": {
    "name": "ipython",
    "version": 3
   },
   "file_extension": ".py",
   "mimetype": "text/x-python",
   "name": "python",
   "nbconvert_exporter": "python",
   "pygments_lexer": "ipython3",
   "version": "3.7.4"
  }
 },
 "nbformat": 4,
 "nbformat_minor": 2
}
